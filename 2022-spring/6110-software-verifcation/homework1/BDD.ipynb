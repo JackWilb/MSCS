{
 "cells": [
  {
   "cell_type": "code",
   "execution_count": 1,
   "metadata": {
    "colab": {
     "base_uri": "https://localhost:8080/"
    },
    "id": "g8PM6TIXtZha",
    "outputId": "5fe7633b-b74f-419e-f338-61f72a910053",
    "run_control": {
     "frozen": false,
     "read_only": false
    }
   },
   "outputs": [
    {
     "name": "stdout",
     "output_type": "stream",
     "text": [
      "Cloning into 'Jove'...\n",
      "remote: Enumerating objects: 5497, done.\u001b[K\n",
      "remote: Counting objects: 100% (863/863), done.\u001b[K\n",
      "remote: Compressing objects: 100% (609/609), done.\u001b[K\n",
      "remote: Total 5497 (delta 450), reused 621 (delta 224), pack-reused 4634\u001b[K\n",
      "Receiving objects: 100% (5497/5497), 8.31 MiB | 487.00 KiB/s, done.\n",
      "Resolving deltas: 100% (3455/3455), done.\n"
     ]
    }
   ],
   "source": [
    "#~~~~~~~~~~~~~~~~~~~~~~~~~~~~~~~~~~~~~~~~~~~~~~~~~~~~~~~\n",
    "import sys\n",
    "\n",
    "sys.path[0:0] = ['./Jove/pbl/python',\n",
    "                   './Jove/pbl/python/BDD_V2',\n",
    "                   './Jove/pbl/python/BDD_V2/BDD_V2',\n",
    "                   './Jove/pbl/python/BDD_V2/BDD_V2/include',\n",
    "                   './Jove/pbl/python/PyBool',\n",
    "                   './Jove/pbl/python/PyBool/include',\n",
    "                   './Jove/pbl/python/PyBool/include/ply'\n",
    "                ]\n",
    "! if [ ! -d Jove ]; then git clone https://github.com/ganeshutah/Jove Jove; fi"
   ]
  },
  {
   "cell_type": "code",
   "execution_count": 2,
   "metadata": {
    "colab": {
     "base_uri": "https://localhost:8080/"
    },
    "id": "3_v_avMUtZhg",
    "outputId": "64ba2caf-44c9-4a50-e975-f7987fdd8e66",
    "run_control": {
     "frozen": false,
     "read_only": false
    }
   },
   "outputs": [
    {
     "name": "stderr",
     "output_type": "stream",
     "text": [
      "/home/jwilburn/Nextcloud/Projects/MSCS/2022-spring/6110-software-verifcation/homework1/./Jove/pbl/python/PyBool/include/PyBool_algorithms.py:49: SyntaxWarning: \"is\" with a literal. Did you mean \"==\"?\n",
      "  (lambda expr: expr[\"type\"] is \"const\"     ,     lambda expr: print_const_expr(expr)),\n",
      "/home/jwilburn/Nextcloud/Projects/MSCS/2022-spring/6110-software-verifcation/homework1/./Jove/pbl/python/PyBool/include/PyBool_algorithms.py:50: SyntaxWarning: \"is\" with a literal. Did you mean \"==\"?\n",
      "  (lambda expr: expr[\"type\"] is \"var\"       ,     lambda expr: print_var_expr(expr))  ,\n",
      "/home/jwilburn/Nextcloud/Projects/MSCS/2022-spring/6110-software-verifcation/homework1/./Jove/pbl/python/PyBool/include/PyBool_algorithms.py:51: SyntaxWarning: \"is\" with a literal. Did you mean \"==\"?\n",
      "  (lambda expr: expr[\"type\"] is \"neg\"       ,     lambda expr: print_neg_expr(expr))  ,\n",
      "/home/jwilburn/Nextcloud/Projects/MSCS/2022-spring/6110-software-verifcation/homework1/./Jove/pbl/python/PyBool/include/PyBool_algorithms.py:52: SyntaxWarning: \"is\" with a literal. Did you mean \"==\"?\n",
      "  (lambda expr: expr[\"type\"] is \"and\"       ,     lambda expr: print_and_expr(expr))  ,\n",
      "/home/jwilburn/Nextcloud/Projects/MSCS/2022-spring/6110-software-verifcation/homework1/./Jove/pbl/python/PyBool/include/PyBool_algorithms.py:53: SyntaxWarning: \"is\" with a literal. Did you mean \"==\"?\n",
      "  (lambda expr: expr[\"type\"] is \"or\"        ,     lambda expr: print_or_expr(expr))   ,\n",
      "/home/jwilburn/Nextcloud/Projects/MSCS/2022-spring/6110-software-verifcation/homework1/./Jove/pbl/python/PyBool/include/PyBool_algorithms.py:54: SyntaxWarning: \"is\" with a literal. Did you mean \"==\"?\n",
      "  (lambda expr: expr[\"type\"] is \"impl\"      ,     lambda expr: print_impl_expr(expr)) ,\n",
      "/home/jwilburn/Nextcloud/Projects/MSCS/2022-spring/6110-software-verifcation/homework1/./Jove/pbl/python/PyBool/include/PyBool_algorithms.py:55: SyntaxWarning: \"is\" with a literal. Did you mean \"==\"?\n",
      "  (lambda expr: expr[\"type\"] is \"xor\"       ,     lambda expr: print_xor_expr(expr))  ,\n",
      "/home/jwilburn/Nextcloud/Projects/MSCS/2022-spring/6110-software-verifcation/homework1/./Jove/pbl/python/PyBool/include/PyBool_algorithms.py:56: SyntaxWarning: \"is\" with a literal. Did you mean \"==\"?\n",
      "  (lambda expr: expr[\"type\"] is \"eqv\"       ,     lambda expr: print_eqv_expr(expr))\n",
      "/home/jwilburn/Nextcloud/Projects/MSCS/2022-spring/6110-software-verifcation/homework1/./Jove/pbl/python/PyBool/include/PyBool_algorithms.py:67: SyntaxWarning: \"is\" with a literal. Did you mean \"==\"?\n",
      "  (lambda expr: expr[\"type\"] is \"const\"       ,     lambda expr,tup: expr)  ,\n",
      "/home/jwilburn/Nextcloud/Projects/MSCS/2022-spring/6110-software-verifcation/homework1/./Jove/pbl/python/PyBool/include/PyBool_algorithms.py:68: SyntaxWarning: \"is\" with a literal. Did you mean \"==\"?\n",
      "  (lambda expr: expr[\"type\"] is \"var\"       ,     lambda expr,tup: rename_var_var(expr,tup))\n",
      "/home/jwilburn/Nextcloud/Projects/MSCS/2022-spring/6110-software-verifcation/homework1/./Jove/pbl/python/PyBool/include/PyBool_algorithms.py:184: SyntaxWarning: \"is\" with a literal. Did you mean \"==\"?\n",
      "  (lambda expr: expr[\"type\"] is \"const\"     ,     lambda expr, sol: apply_sol_expr_const(expr, sol)),\n",
      "/home/jwilburn/Nextcloud/Projects/MSCS/2022-spring/6110-software-verifcation/homework1/./Jove/pbl/python/PyBool/include/PyBool_algorithms.py:185: SyntaxWarning: \"is\" with a literal. Did you mean \"==\"?\n",
      "  (lambda expr: expr[\"type\"] is \"var\"       ,     lambda expr, sol: apply_sol_expr_var(expr, sol))  ,\n",
      "/home/jwilburn/Nextcloud/Projects/MSCS/2022-spring/6110-software-verifcation/homework1/./Jove/pbl/python/PyBool/include/PyBool_algorithms.py:186: SyntaxWarning: \"is\" with a literal. Did you mean \"==\"?\n",
      "  (lambda expr: expr[\"type\"] is \"neg\"       ,     lambda expr, sol: apply_sol_expr_neg(expr, sol))  ,\n",
      "/home/jwilburn/Nextcloud/Projects/MSCS/2022-spring/6110-software-verifcation/homework1/./Jove/pbl/python/PyBool/include/PyBool_algorithms.py:187: SyntaxWarning: \"is\" with a literal. Did you mean \"==\"?\n",
      "  (lambda expr: expr[\"type\"] is \"and\"       ,     lambda expr, sol: apply_sol_expr_and(expr,sol))   ,\n",
      "/home/jwilburn/Nextcloud/Projects/MSCS/2022-spring/6110-software-verifcation/homework1/./Jove/pbl/python/PyBool/include/PyBool_algorithms.py:188: SyntaxWarning: \"is\" with a literal. Did you mean \"==\"?\n",
      "  (lambda expr: expr[\"type\"] is \"or\"        ,     lambda expr, sol: apply_sol_expr_or(expr,sol))    ,\n",
      "/home/jwilburn/Nextcloud/Projects/MSCS/2022-spring/6110-software-verifcation/homework1/./Jove/pbl/python/PyBool/include/PyBool_algorithms.py:189: SyntaxWarning: \"is\" with a literal. Did you mean \"==\"?\n",
      "  (lambda expr: expr[\"type\"] is \"impl\"      ,     lambda expr, sol: apply_sol_expr_impl(expr,sol))  ,\n",
      "/home/jwilburn/Nextcloud/Projects/MSCS/2022-spring/6110-software-verifcation/homework1/./Jove/pbl/python/PyBool/include/PyBool_algorithms.py:190: SyntaxWarning: \"is\" with a literal. Did you mean \"==\"?\n",
      "  (lambda expr: expr[\"type\"] is \"xor\"       ,     lambda expr, sol: apply_sol_expr_xor(expr,sol))    ,\n",
      "/home/jwilburn/Nextcloud/Projects/MSCS/2022-spring/6110-software-verifcation/homework1/./Jove/pbl/python/PyBool/include/PyBool_algorithms.py:191: SyntaxWarning: \"is\" with a literal. Did you mean \"==\"?\n",
      "  (lambda expr: expr[\"type\"] is \"eqv\"       ,     lambda expr, sol: apply_sol_expr_eqv(expr,sol))\n",
      "/home/jwilburn/Nextcloud/Projects/MSCS/2022-spring/6110-software-verifcation/homework1/./Jove/pbl/python/PyBool/include/PyBool_algorithms.py:244: SyntaxWarning: \"is\" with a literal. Did you mean \"==\"?\n",
      "  (lambda expr: expr[\"type\"] is \"const\"     ,     lambda expr, tup: propagate_const(expr,tup)) ,\n",
      "/home/jwilburn/Nextcloud/Projects/MSCS/2022-spring/6110-software-verifcation/homework1/./Jove/pbl/python/PyBool/include/PyBool_algorithms.py:245: SyntaxWarning: \"is\" with a literal. Did you mean \"==\"?\n",
      "  (lambda expr: expr[\"type\"] is \"var\"       ,     lambda expr, tup: propagate_var(expr,tup))   ,\n",
      "/home/jwilburn/Nextcloud/Projects/MSCS/2022-spring/6110-software-verifcation/homework1/./Jove/pbl/python/PyBool/include/PyBool_algorithms.py:246: SyntaxWarning: \"is\" with a literal. Did you mean \"==\"?\n",
      "  (lambda expr: expr[\"type\"] is \"neg\"       ,     lambda expr, tup: propagate_neg(expr,tup))   ,\n",
      "/home/jwilburn/Nextcloud/Projects/MSCS/2022-spring/6110-software-verifcation/homework1/./Jove/pbl/python/PyBool/include/PyBool_algorithms.py:247: SyntaxWarning: \"is\" with a literal. Did you mean \"==\"?\n",
      "  (lambda expr: expr[\"type\"] is \"and\"       ,     lambda expr, tup: propagate_and(expr,tup))   ,\n",
      "/home/jwilburn/Nextcloud/Projects/MSCS/2022-spring/6110-software-verifcation/homework1/./Jove/pbl/python/PyBool/include/PyBool_algorithms.py:248: SyntaxWarning: \"is\" with a literal. Did you mean \"==\"?\n",
      "  (lambda expr: expr[\"type\"] is \"or\"        ,     lambda expr, tup: propagate_or(expr,tup))    ,\n",
      "/home/jwilburn/Nextcloud/Projects/MSCS/2022-spring/6110-software-verifcation/homework1/./Jove/pbl/python/PyBool/include/PyBool_algorithms.py:249: SyntaxWarning: \"is\" with a literal. Did you mean \"==\"?\n",
      "  (lambda expr: expr[\"type\"] is \"impl\"      ,     lambda expr, tup: propagate_impl(expr,tup))  ,\n",
      "/home/jwilburn/Nextcloud/Projects/MSCS/2022-spring/6110-software-verifcation/homework1/./Jove/pbl/python/PyBool/include/PyBool_algorithms.py:250: SyntaxWarning: \"is\" with a literal. Did you mean \"==\"?\n",
      "  (lambda expr: expr[\"type\"] is \"xor\"       ,     lambda expr, tup: propagate_xor(expr,tup))   ,\n",
      "/home/jwilburn/Nextcloud/Projects/MSCS/2022-spring/6110-software-verifcation/homework1/./Jove/pbl/python/PyBool/include/PyBool_algorithms.py:251: SyntaxWarning: \"is\" with a literal. Did you mean \"==\"?\n",
      "  (lambda expr: expr[\"type\"] is \"eqv\"       ,     lambda expr, tup: propagate_eqv(expr,tup))\n",
      "/home/jwilburn/Nextcloud/Projects/MSCS/2022-spring/6110-software-verifcation/homework1/./Jove/pbl/python/PyBool/include/PyBool_algorithms.py:377: SyntaxWarning: \"is\" with a literal. Did you mean \"==\"?\n",
      "  (lambda expr: expr[\"type\"] is \"const\" or expr[\"type\"] is \"var\"  ,  lambda expr: std_expr_atomic(expr)),\n",
      "/home/jwilburn/Nextcloud/Projects/MSCS/2022-spring/6110-software-verifcation/homework1/./Jove/pbl/python/PyBool/include/PyBool_algorithms.py:377: SyntaxWarning: \"is\" with a literal. Did you mean \"==\"?\n",
      "  (lambda expr: expr[\"type\"] is \"const\" or expr[\"type\"] is \"var\"  ,  lambda expr: std_expr_atomic(expr)),\n",
      "/home/jwilburn/Nextcloud/Projects/MSCS/2022-spring/6110-software-verifcation/homework1/./Jove/pbl/python/PyBool/include/PyBool_algorithms.py:379: SyntaxWarning: \"is\" with a literal. Did you mean \"==\"?\n",
      "  (lambda expr: expr[\"type\"] is \"neg\"       ,     lambda expr: std_expr_neg(expr))  ,\n",
      "/home/jwilburn/Nextcloud/Projects/MSCS/2022-spring/6110-software-verifcation/homework1/./Jove/pbl/python/PyBool/include/PyBool_algorithms.py:380: SyntaxWarning: \"is\" with a literal. Did you mean \"==\"?\n",
      "  (lambda expr: expr[\"type\"] is \"and\"       ,     lambda expr: std_expr_and(expr))  ,\n",
      "/home/jwilburn/Nextcloud/Projects/MSCS/2022-spring/6110-software-verifcation/homework1/./Jove/pbl/python/PyBool/include/PyBool_algorithms.py:381: SyntaxWarning: \"is\" with a literal. Did you mean \"==\"?\n",
      "  (lambda expr: expr[\"type\"] is \"or\"        ,     lambda expr: std_expr_or(expr))   ,\n",
      "/home/jwilburn/Nextcloud/Projects/MSCS/2022-spring/6110-software-verifcation/homework1/./Jove/pbl/python/PyBool/include/PyBool_algorithms.py:382: SyntaxWarning: \"is\" with a literal. Did you mean \"==\"?\n",
      "  (lambda expr: expr[\"type\"] is \"impl\"      ,     lambda expr: std_expr_impl(expr)) ,\n",
      "/home/jwilburn/Nextcloud/Projects/MSCS/2022-spring/6110-software-verifcation/homework1/./Jove/pbl/python/PyBool/include/PyBool_algorithms.py:383: SyntaxWarning: \"is\" with a literal. Did you mean \"==\"?\n",
      "  (lambda expr: expr[\"type\"] is \"xor\"       ,     lambda expr: std_expr_xor(expr))  ,\n",
      "/home/jwilburn/Nextcloud/Projects/MSCS/2022-spring/6110-software-verifcation/homework1/./Jove/pbl/python/PyBool/include/PyBool_algorithms.py:384: SyntaxWarning: \"is\" with a literal. Did you mean \"==\"?\n",
      "  (lambda expr: expr[\"type\"] is \"eqv\"       ,     lambda expr: std_expr_eqv(expr))\n",
      "/home/jwilburn/Nextcloud/Projects/MSCS/2022-spring/6110-software-verifcation/homework1/./Jove/pbl/python/PyBool/include/PyBool_algorithms.py:422: SyntaxWarning: \"is\" with a literal. Did you mean \"==\"?\n",
      "  (lambda expr: expr[\"type\"] is \"const\"     ,     lambda expr: nne_const(expr)),\n",
      "/home/jwilburn/Nextcloud/Projects/MSCS/2022-spring/6110-software-verifcation/homework1/./Jove/pbl/python/PyBool/include/PyBool_algorithms.py:423: SyntaxWarning: \"is\" with a literal. Did you mean \"==\"?\n",
      "  (lambda expr: expr[\"type\"] is \"var\"       ,     lambda expr: nne_var(expr))  ,\n",
      "/home/jwilburn/Nextcloud/Projects/MSCS/2022-spring/6110-software-verifcation/homework1/./Jove/pbl/python/PyBool/include/PyBool_algorithms.py:424: SyntaxWarning: \"is\" with a literal. Did you mean \"==\"?\n",
      "  (lambda expr: expr[\"type\"] is \"neg\"       ,     lambda expr: nne_neg(expr))  ,\n",
      "/home/jwilburn/Nextcloud/Projects/MSCS/2022-spring/6110-software-verifcation/homework1/./Jove/pbl/python/PyBool/include/PyBool_algorithms.py:425: SyntaxWarning: \"is\" with a literal. Did you mean \"==\"?\n",
      "  (lambda expr: expr[\"type\"] is \"and\"       ,     lambda expr: nne_and(expr))  ,\n",
      "/home/jwilburn/Nextcloud/Projects/MSCS/2022-spring/6110-software-verifcation/homework1/./Jove/pbl/python/PyBool/include/PyBool_algorithms.py:426: SyntaxWarning: \"is\" with a literal. Did you mean \"==\"?\n",
      "  (lambda expr: expr[\"type\"] is \"or\"        ,     lambda expr: nne_or(expr))\n",
      "/home/jwilburn/Nextcloud/Projects/MSCS/2022-spring/6110-software-verifcation/homework1/./Jove/pbl/python/PyBool/include/PyBool_algorithms.py:472: SyntaxWarning: \"is\" with a literal. Did you mean \"==\"?\n",
      "  (lambda expr: expr[\"type\"] is \"and\"       ,     lambda expr: exp_cnf_and(expr)),\n",
      "/home/jwilburn/Nextcloud/Projects/MSCS/2022-spring/6110-software-verifcation/homework1/./Jove/pbl/python/PyBool/include/PyBool_algorithms.py:473: SyntaxWarning: \"is\" with a literal. Did you mean \"==\"?\n",
      "  (lambda expr: expr[\"type\"] is \"or\"        ,     lambda expr: exp_cnf_or(expr))\n",
      "/home/jwilburn/Nextcloud/Projects/MSCS/2022-spring/6110-software-verifcation/homework1/./Jove/pbl/python/PyBool/include/PyBool_algorithms.py:528: SyntaxWarning: \"is\" with a literal. Did you mean \"==\"?\n",
      "  (lambda expr: expr[\"type\"] is \"neg\"       ,     lambda expr, repHash: en_neg(expr, repHash))  ,\n",
      "/home/jwilburn/Nextcloud/Projects/MSCS/2022-spring/6110-software-verifcation/homework1/./Jove/pbl/python/PyBool/include/PyBool_algorithms.py:529: SyntaxWarning: \"is\" with a literal. Did you mean \"==\"?\n",
      "  (lambda expr: expr[\"type\"] is \"and\"       ,     lambda expr, repHash: en_and(expr, repHash))  ,\n",
      "/home/jwilburn/Nextcloud/Projects/MSCS/2022-spring/6110-software-verifcation/homework1/./Jove/pbl/python/PyBool/include/PyBool_algorithms.py:530: SyntaxWarning: \"is\" with a literal. Did you mean \"==\"?\n",
      "  (lambda expr: expr[\"type\"] is \"or\"        ,     lambda expr, repHash: en_or(expr, repHash))   ,\n",
      "/home/jwilburn/Nextcloud/Projects/MSCS/2022-spring/6110-software-verifcation/homework1/./Jove/pbl/python/PyBool/include/PyBool_algorithms.py:531: SyntaxWarning: \"is\" with a literal. Did you mean \"==\"?\n",
      "  (lambda expr: expr[\"type\"] is \"impl\"      ,     lambda expr, repHash: en_impl(expr, repHash)) ,\n",
      "/home/jwilburn/Nextcloud/Projects/MSCS/2022-spring/6110-software-verifcation/homework1/./Jove/pbl/python/PyBool/include/PyBool_algorithms.py:532: SyntaxWarning: \"is\" with a literal. Did you mean \"==\"?\n",
      "  (lambda expr: expr[\"type\"] is \"eqv\"       ,     lambda expr, repHash: en_eqv(expr, repHash))\n",
      "Generating LALR tables\n",
      "Generating LALR tables\n"
     ]
    }
   ],
   "source": [
    "from BDD import *\n",
    "from BDD_ite import *\n",
    "from BDD_ite1 import *\n",
    "from dot_bdd import *\n",
    "\n",
    "from PBL_CNF import *\n",
    "from PBL_NNE import *\n",
    "\n",
    "from PyBool_algorithms import *\n",
    "from PyBool_builder import *\n",
    "from PyBool_dimacs_parse import *\n",
    "from PyBool_public_interface import *\n",
    "from PyBool_std_parse import *\n",
    "\n",
    "from ply import *\n",
    "from cpp import *\n",
    "from ctokens import *\n",
    "from lex import *\n",
    "from yacc import *\n",
    "from buildBDD import *\n",
    "from buildBDDMin import *\n",
    "from common import *\n",
    "#~~~~~~~~~~~~~~~~~~~~~~~~~~~~~~~~~~~~~~~~~~~~~~~~~~~~~~~"
   ]
  },
  {
   "cell_type": "markdown",
   "metadata": {
    "id": "mLWaD0q6tZhh",
    "outputId": "a6b85b7b-bb8b-489b-beda-b3b7455c5f2d"
   },
   "source": [
    "# Understanding Equisat Versus Equivalence"
   ]
  },
  {
   "cell_type": "code",
   "execution_count": 3,
   "metadata": {
    "id": "tWC8_ptgFWXG"
   },
   "outputs": [],
   "source": [
    "ex1 = '''\n",
    "Var_Order : a,b,c,p,z\n",
    "fGiven = (c|(a&b))\n",
    "fTseitin = (z & (~a | ~b | p) & (a | ~p) & (b | ~p) & (p | c | ~z) & (~p | z) & (~c | z))\n",
    "Main_Exp : fTseitin => fGiven\n",
    "'''"
   ]
  },
  {
   "cell_type": "code",
   "execution_count": 4,
   "metadata": {
    "colab": {
     "base_uri": "https://localhost:8080/",
     "height": 1000
    },
    "id": "9ctrGuPL3irY",
    "outputId": "20a8abfc-b44a-4f4e-8a45-510de7008499"
   },
   "outputs": [
    {
     "name": "stdout",
     "output_type": "stream",
     "text": [
      "bdd in dot file {'u': 1, 'n': 5, 'h_table': {}, 't_table': {0: (6, None, None), 1: (6, None, None)}, 'var_order': ['a', 'b', 'c', 'p', 'z'], 'expr': {'type': 'impl', 'expr1': {'type': 'and', 'expr1': {'type': 'and', 'expr1': {'type': 'and', 'expr1': {'type': 'and', 'expr1': {'type': 'and', 'expr1': {'type': 'and', 'expr1': {'type': 'var', 'name': ('z', 0)}, 'expr2': {'type': 'or', 'expr1': {'type': 'or', 'expr1': {'type': 'neg', 'expr': {'type': 'var', 'name': ('a', 0)}}, 'expr2': {'type': 'neg', 'expr': {'type': 'var', 'name': ('b', 0)}}}, 'expr2': {'type': 'var', 'name': ('p', 0)}}}, 'expr2': {'type': 'or', 'expr1': {'type': 'var', 'name': ('a', 0)}, 'expr2': {'type': 'neg', 'expr': {'type': 'var', 'name': ('p', 0)}}}}, 'expr2': {'type': 'or', 'expr1': {'type': 'var', 'name': ('b', 0)}, 'expr2': {'type': 'neg', 'expr': {'type': 'var', 'name': ('p', 0)}}}}, 'expr2': {'type': 'or', 'expr1': {'type': 'or', 'expr1': {'type': 'var', 'name': ('p', 0)}, 'expr2': {'type': 'var', 'name': ('c', 0)}}, 'expr2': {'type': 'neg', 'expr': {'type': 'var', 'name': ('z', 0)}}}}, 'expr2': {'type': 'or', 'expr1': {'type': 'neg', 'expr': {'type': 'var', 'name': ('p', 0)}}, 'expr2': {'type': 'var', 'name': ('z', 0)}}}, 'expr2': {'type': 'or', 'expr1': {'type': 'neg', 'expr': {'type': 'var', 'name': ('c', 0)}}, 'expr2': {'type': 'var', 'name': ('z', 0)}}}, 'expr2': {'type': 'or', 'expr1': {'type': 'var', 'name': ('c', 0)}, 'expr2': {'type': 'and', 'expr1': {'type': 'var', 'name': ('a', 0)}, 'expr2': {'type': 'var', 'name': ('b', 0)}}}}}\n",
      "filename in dot bdd_21_06_27.dot\n",
      "dot printed\n",
      "Satisfying string is Number of satisfying assignments: 32\n",
      "Number of Variables : 5\n",
      "Number of Nodes     : 2\n",
      "Variable Ordering\n",
      "------------------------------------\n",
      "['a', 'b', 'c', 'p', 'z']\n",
      "\n",
      "All satisfying assignments:\n",
      "------------------------------\n",
      "[1, 1, 1, 1, 1]\n",
      "[0, 1, 1, 1, 1]\n",
      "[1, 0, 1, 1, 1]\n",
      "[1, 1, 0, 1, 1]\n",
      "[1, 1, 1, 0, 1]\n",
      "[1, 1, 1, 1, 0]\n",
      "[0, 0, 1, 1, 1]\n",
      "[0, 1, 0, 1, 1]\n",
      "[0, 1, 1, 0, 1]\n",
      "[0, 1, 1, 1, 0]\n",
      "[1, 0, 0, 1, 1]\n",
      "[1, 0, 1, 0, 1]\n",
      "[1, 0, 1, 1, 0]\n",
      "[1, 1, 0, 0, 1]\n",
      "[1, 1, 0, 1, 0]\n",
      "[1, 1, 1, 0, 0]\n",
      "[0, 0, 0, 1, 1]\n",
      "[0, 0, 1, 0, 1]\n",
      "[0, 0, 1, 1, 0]\n",
      "[0, 1, 0, 0, 1]\n",
      "[0, 1, 0, 1, 0]\n",
      "[0, 1, 1, 0, 0]\n",
      "[1, 0, 0, 0, 1]\n",
      "[1, 0, 0, 1, 0]\n",
      "[1, 0, 1, 0, 0]\n",
      "[1, 1, 0, 0, 0]\n",
      "[0, 0, 0, 0, 1]\n",
      "[0, 0, 0, 1, 0]\n",
      "[0, 0, 1, 0, 0]\n",
      "[0, 1, 0, 0, 0]\n",
      "[1, 0, 0, 0, 0]\n",
      "[0, 0, 0, 0, 0]\n",
      "\n"
     ]
    },
    {
     "ename": "ModuleNotFoundError",
     "evalue": "No module named 'graphviz'",
     "output_type": "error",
     "traceback": [
      "\u001b[0;31m---------------------------------------------------------------------------\u001b[0m",
      "\u001b[0;31mModuleNotFoundError\u001b[0m                       Traceback (most recent call last)",
      "Input \u001b[0;32mIn [4]\u001b[0m, in \u001b[0;36m<module>\u001b[0;34m\u001b[0m\n\u001b[1;32m      1\u001b[0m buildBDDmain(ex1\u001b[38;5;241m.\u001b[39msplitlines())\n\u001b[0;32m----> 3\u001b[0m \u001b[38;5;28;01mimport\u001b[39;00m \u001b[38;5;21;01mgraphviz\u001b[39;00m\n\u001b[1;32m      4\u001b[0m \u001b[38;5;28;01mfrom\u001b[39;00m \u001b[38;5;21;01mIPython\u001b[39;00m\u001b[38;5;21;01m.\u001b[39;00m\u001b[38;5;21;01mdisplay\u001b[39;00m \u001b[38;5;28;01mimport\u001b[39;00m Image\n\u001b[1;32m      5\u001b[0m \u001b[38;5;28;01mimport\u001b[39;00m \u001b[38;5;21;01mpydot\u001b[39;00m\n",
      "\u001b[0;31mModuleNotFoundError\u001b[0m: No module named 'graphviz'"
     ]
    }
   ],
   "source": [
    "buildBDDmain(ex1.splitlines())\n",
    "\n",
    "import graphviz\n",
    "from IPython.display import Image\n",
    "import pydot\n",
    "\n",
    "graphs = pydot.graph_from_dot_file(final_dot_file+\".dot\")\n",
    "graph = graphs[0]\n",
    "graph.write_png(final_dot_file+'.png')\n",
    "from IPython.display import Image\n",
    "Image(final_dot_file+'.png', width=300)"
   ]
  },
  {
   "cell_type": "markdown",
   "metadata": {
    "id": "nWIIHYTiJjrM"
   },
   "source": []
  }
 ],
 "metadata": {
  "colab": {
   "name": "BDD.ipynb",
   "provenance": []
  },
  "kernelspec": {
   "display_name": "Python 3 (ipykernel)",
   "language": "python",
   "name": "python3"
  },
  "language_info": {
   "codemirror_mode": {
    "name": "ipython",
    "version": 3
   },
   "file_extension": ".py",
   "mimetype": "text/x-python",
   "name": "python",
   "nbconvert_exporter": "python",
   "pygments_lexer": "ipython3",
   "version": "3.10.1"
  },
  "toc": {
   "colors": {
    "hover_highlight": "#DAA520",
    "running_highlight": "#FF0000",
    "selected_highlight": "#FFD700"
   },
   "moveMenuLeft": true,
   "nav_menu": {
    "height": "318px",
    "width": "252px"
   },
   "navigate_menu": true,
   "number_sections": true,
   "sideBar": true,
   "threshold": 4,
   "toc_cell": false,
   "toc_section_display": "block",
   "toc_window_display": false,
   "widenNotebook": false
  }
 },
 "nbformat": 4,
 "nbformat_minor": 1
}
